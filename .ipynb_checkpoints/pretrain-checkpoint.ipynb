{
 "cells": [
  {
   "cell_type": "code",
   "execution_count": 4,
   "metadata": {
    "scrolled": true
   },
   "outputs": [
    {
     "name": "stdout",
     "output_type": "stream",
     "text": [
      "['fist.csv', 'fist1.csv', 'fist1_processed.csv', 'fist2.csv', 'fist2_processed.csv', 'fist_processed.csv', 'forefinger.csv', 'forefinger1.csv', 'forefinger1_processed.csv', 'forefinger2.csv', 'forefinger2_processed.csv', 'forefinger_processed.csv', 'relax.csv', 'relax1.csv', 'relax1_processed.csv', 'relax_processed.csv', 'thumb.csv', 'thumb1.csv']\n"
     ]
    }
   ],
   "source": [
    "#prehandle the dataset\n",
    "import os\n",
    "import glob\n",
    "import pandas as pd\n",
    "import numpy as np\n",
    "import matplotlib.pyplot as plt\n",
    "from emg import EMG_filter\n",
    "# Get list of files in specific directory with a specified extension (e.g. csv)\n",
    "def get_files_in_directory(path, extension):\n",
    "    os.chdir(path)\n",
    "    result = glob.glob('*.{}'.format(extension))\n",
    "    result.sort() # Ensure correct order of files\n",
    "    return result\n",
    "def array_from_csv(file):\n",
    "    list_arr = pd.read_csv(file, sep=',', header=0,skiprows=2).values\n",
    "    return list_arr\n",
    "list_files = get_files_in_directory('C:/Users/Administrator/Desktop/MyoFile/SignalTimeRecord/', 'csv')\n",
    "print(list_files)"
   ]
  },
  {
   "cell_type": "code",
   "execution_count": 5,
   "metadata": {},
   "outputs": [],
   "source": [
    "def filter_sMEG(dataset):\n",
    "    filter_list = []\n",
    "    for col in range(6):\n",
    "        raw_semg = dataset[:,col]\n",
    "        emgFilter = EMG_filter()\n",
    "        smooth_semg = []\n",
    "        for i in raw_semg:\n",
    "            smooth_semg.append(emgFilter.filter(i))\n",
    "        filter_list.append(smooth_semg)\n",
    "   # print(filter_list)\n",
    "    filter_arr = np.array(filter_list)\n",
    "    res = []\n",
    "    for col in range(filter_arr.shape[1]):\n",
    "        res.append(filter_arr[:,col])\n",
    "    res_arr = np.array(res)\n",
    "    return res_arr\n"
   ]
  },
  {
   "cell_type": "code",
   "execution_count": 6,
   "metadata": {},
   "outputs": [],
   "source": [
    "#handle every dataset, use filter and add filter to every flie\n",
    "for file in list_files:\n",
    "    dataset = array_from_csv(file)\n",
    "    res = filter_sMEG(dataset)\n",
    "    pd_data = pd.DataFrame(res)\n",
    "    pd_data.to_csv(file[:-4]+\"_processed.csv\",index=False,header=False)"
   ]
  },
  {
   "cell_type": "code",
   "execution_count": null,
   "metadata": {},
   "outputs": [],
   "source": []
  }
 ],
 "metadata": {
  "kernelspec": {
   "display_name": "Python 3",
   "language": "python",
   "name": "python3"
  },
  "language_info": {
   "codemirror_mode": {
    "name": "ipython",
    "version": 3
   },
   "file_extension": ".py",
   "mimetype": "text/x-python",
   "name": "python",
   "nbconvert_exporter": "python",
   "pygments_lexer": "ipython3",
   "version": "3.6.2"
  }
 },
 "nbformat": 4,
 "nbformat_minor": 4
}
