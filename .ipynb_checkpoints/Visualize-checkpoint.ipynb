{
 "cells": [
  {
   "cell_type": "code",
   "execution_count": 12,
   "id": "affiliated-lucas",
   "metadata": {},
   "outputs": [
    {
     "name": "stdout",
     "output_type": "stream",
     "text": [
      "serialArduino.isOpen() = True\n"
     ]
    },
    {
     "ename": "UnicodeDecodeError",
     "evalue": "'utf-8' codec can't decode byte 0xff in position 0: invalid start byte",
     "output_type": "error",
     "traceback": [
      "\u001b[1;31m---------------------------------------------------------------------------\u001b[0m",
      "\u001b[1;31mUnicodeDecodeError\u001b[0m                        Traceback (most recent call last)",
      "\u001b[1;32m<ipython-input-12-7848e668e1fb>\u001b[0m in \u001b[0;36m<module>\u001b[1;34m\u001b[0m\n\u001b[0;32m     38\u001b[0m         \u001b[1;32mpass\u001b[0m\u001b[1;33m\u001b[0m\u001b[0m\n\u001b[0;32m     39\u001b[0m     \u001b[1;31m#print(\"readline()\")\u001b[0m\u001b[1;33m\u001b[0m\u001b[1;33m\u001b[0m\u001b[0m\n\u001b[1;32m---> 40\u001b[1;33m     \u001b[0mvalueRead\u001b[0m \u001b[1;33m=\u001b[0m \u001b[0mserialArduino\u001b[0m\u001b[1;33m.\u001b[0m\u001b[0mreadline\u001b[0m\u001b[1;33m(\u001b[0m\u001b[1;33m)\u001b[0m\u001b[1;33m.\u001b[0m\u001b[0mdecode\u001b[0m\u001b[1;33m(\u001b[0m\u001b[1;33m)\u001b[0m\u001b[1;33m.\u001b[0m\u001b[0mreplace\u001b[0m\u001b[1;33m(\u001b[0m\u001b[1;34m\"\\r\"\u001b[0m\u001b[1;33m,\u001b[0m\u001b[1;34m\"\"\u001b[0m\u001b[1;33m)\u001b[0m\u001b[1;33m.\u001b[0m\u001b[0mreplace\u001b[0m\u001b[1;33m(\u001b[0m\u001b[1;34m\"\\n\"\u001b[0m\u001b[1;33m,\u001b[0m\u001b[1;34m\"\"\u001b[0m\u001b[1;33m)\u001b[0m\u001b[1;33m\u001b[0m\u001b[0m\n\u001b[0m\u001b[0;32m     41\u001b[0m     \u001b[0mdata\u001b[0m \u001b[1;33m=\u001b[0m \u001b[0mvalueRead\u001b[0m\u001b[1;33m.\u001b[0m\u001b[0msplit\u001b[0m\u001b[1;33m(\u001b[0m\u001b[1;34m\",\"\u001b[0m\u001b[1;33m)\u001b[0m\u001b[1;33m\u001b[0m\u001b[0m\n\u001b[0;32m     42\u001b[0m     \u001b[0mdata\u001b[0m \u001b[1;33m=\u001b[0m \u001b[0mlist\u001b[0m\u001b[1;33m(\u001b[0m\u001b[0mmap\u001b[0m\u001b[1;33m(\u001b[0m\u001b[0mint\u001b[0m\u001b[1;33m,\u001b[0m\u001b[0mdata\u001b[0m\u001b[1;33m)\u001b[0m\u001b[1;33m)\u001b[0m\u001b[1;33m\u001b[0m\u001b[0m\n",
      "\u001b[1;31mUnicodeDecodeError\u001b[0m: 'utf-8' codec can't decode byte 0xff in position 0: invalid start byte"
     ]
    }
   ],
   "source": [
    "#visualize the arduino\n",
    "import serial\n",
    "import matplotlib.pyplot as plt\n",
    "import atexit\n",
    "import time\n",
    "from IPython import display\n",
    "from drawnow import *\n",
    "values = []\n",
    "plt.ion()\n",
    "\n",
    "serialArduino = serial.Serial('COM3',115200)\n",
    "\n",
    "\n",
    "def plotValues():\n",
    "    plt.cla()\n",
    "    plt.title('EMG siganl from Arduino')\n",
    "    plt.grid(True)\n",
    "    plt.ylabel('Amplitute')\n",
    "    plt.plot(values,'r', label='EMG')\n",
    "    plt.legend(loc='upper right')\n",
    "    display.clear_output(wait=True)\n",
    "    plt.pause(0.0000001)\n",
    "    \n",
    "def doAtExit():\n",
    "    serialArduino.close()\n",
    "    print(\"Close serial\")\n",
    "    print(\"serialArduino.isOpen() = \"+str(serialArduino.isOpen()))\n",
    "\n",
    "atexit.register(doAtExit)#程序退出时，回调函数\n",
    "print(\"serialArduino.isOpen() = \" + str(serialArduino.isOpen()))\n",
    "\n",
    "#预加载虚拟数据\n",
    "for i in range(50):\n",
    "    values.append(0)\n",
    "    \n",
    "while (True):\n",
    "    while (serialArduino.inWaiting()==0):\n",
    "        pass\n",
    "    #print(\"readline()\")\n",
    "    valueRead = serialArduino.readline().decode().replace(\"\\r\",\"\").replace(\"\\n\",\"\")\n",
    "    data = valueRead.split(\",\")\n",
    "    data = list(map(int,data))\n",
    "    #print(data)\n",
    "    values.append(data[0])\n",
    "    values.pop(0)\n",
    "    #plotValues()\n",
    "    drawnow(plotValues)\n",
    "\n"
   ]
  },
  {
   "cell_type": "code",
   "execution_count": null,
   "id": "subject-balance",
   "metadata": {},
   "outputs": [],
   "source": []
  },
  {
   "cell_type": "code",
   "execution_count": null,
   "id": "mysterious-pizza",
   "metadata": {},
   "outputs": [],
   "source": []
  }
 ],
 "metadata": {
  "kernelspec": {
   "display_name": "Python 3",
   "language": "python",
   "name": "python3"
  },
  "language_info": {
   "codemirror_mode": {
    "name": "ipython",
    "version": 3
   },
   "file_extension": ".py",
   "mimetype": "text/x-python",
   "name": "python",
   "nbconvert_exporter": "python",
   "pygments_lexer": "ipython3",
   "version": "3.6.2"
  }
 },
 "nbformat": 4,
 "nbformat_minor": 5
}
